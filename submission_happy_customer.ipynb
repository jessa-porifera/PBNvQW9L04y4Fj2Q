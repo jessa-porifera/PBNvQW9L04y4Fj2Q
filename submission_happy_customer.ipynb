{
 "cells": [
  {
   "cell_type": "code",
   "execution_count": 101,
   "id": "6e8e4062",
   "metadata": {},
   "outputs": [],
   "source": [
    "import pandas as pd\n",
    "import seaborn as sns\n",
    "import numpy as np\n",
    "from sklearn.linear_model import LogisticRegression\n",
    "from sklearn.model_selection import train_test_split"
   ]
  },
  {
   "cell_type": "code",
   "execution_count": 102,
   "id": "cb484424",
   "metadata": {},
   "outputs": [],
   "source": [
    "data = pd.read_csv('ACME-HappinessSurvey2020.csv')"
   ]
  },
  {
   "cell_type": "code",
   "execution_count": 103,
   "id": "10719de4",
   "metadata": {},
   "outputs": [
    {
     "name": "stdout",
     "output_type": "stream",
     "text": [
      "     Y  X1  X2  X3  X4  X5  X6\n",
      "0    0   3   3   3   4   2   4\n",
      "1    0   3   2   3   5   4   3\n",
      "2    1   5   3   3   3   3   5\n",
      "3    0   5   4   3   3   3   5\n",
      "4    0   5   4   3   3   3   5\n",
      "..  ..  ..  ..  ..  ..  ..  ..\n",
      "121  1   5   2   3   4   4   3\n",
      "122  1   5   2   3   4   2   5\n",
      "123  1   5   3   3   4   4   5\n",
      "124  0   4   3   3   4   4   5\n",
      "125  0   5   3   2   5   5   5\n",
      "\n",
      "[126 rows x 7 columns]\n"
     ]
    }
   ],
   "source": [
    "print(data)"
   ]
  },
  {
   "cell_type": "code",
   "execution_count": 104,
   "id": "a7dff115",
   "metadata": {},
   "outputs": [
    {
     "data": {
      "image/png": "[encoded data removed]",
      "text/plain": [
       "<Figure size 800x500 with 1 Axes>"
      ]
     },
     "metadata": {},
     "output_type": "display_data"
    }
   ],
   "source": [
    "# Look at overall happiness in the dataset by plotting 0 and 1 values of Y\n",
    "\n",
    "fig = plt.figure(figsize = (8,5))\n",
    "data.Y.value_counts(normalize = True).plot(kind='bar', color= ['purple','grey'], alpha = 0.9, rot=0)\n",
    "plt.title('Happiness Indicator (1= happy) and (0= not happy) in the Dataset')\n",
    "plt.show()"
   ]
  },
  {
   "cell_type": "code",
   "execution_count": 105,
   "id": "5d5212c8",
   "metadata": {},
   "outputs": [],
   "source": [
    "# split the data into features and target\n",
    "x = data[[\"X1\", \"X2\", \"X3\", \"X4\", \"X5\", \"X6\"]]\n",
    "y = data[\"Y\"]"
   ]
  },
  {
   "cell_type": "code",
   "execution_count": 106,
   "id": "06e06544",
   "metadata": {},
   "outputs": [
    {
     "name": "stdout",
     "output_type": "stream",
     "text": [
      "LogisticRegression()\n"
     ]
    }
   ],
   "source": [
    "# Fit the logistic regression model\n",
    "model = LogisticRegression()\n",
    "model.fit(x, y)\n",
    "print(model)\n"
   ]
  },
  {
   "cell_type": "code",
   "execution_count": 107,
   "id": "a0eefd25",
   "metadata": {},
   "outputs": [
    {
     "name": "stdout",
     "output_type": "stream",
     "text": [
      "Accuracy:  0.5769230769230769\n"
     ]
    }
   ],
   "source": [
    "# Split the data into training and testing sets\n",
    "X_train, X_test, Y_train, Y_test = train_test_split(x, y, test_size=0.2)\n",
    "\n",
    "# Train a logistic regression model on the training data\n",
    "model = LogisticRegression()\n",
    "model.fit(X_train, Y_train)\n",
    "\n",
    "# Make predictions on the test data\n",
    "predictions = model.predict(X_test)\n",
    "\n",
    "# Evaluate the model's performance\n",
    "print(\"Accuracy: \", model.score(X_test, Y_test))"
   ]
  },
  {
   "cell_type": "code",
   "execution_count": 108,
   "id": "bd9901c3",
   "metadata": {},
   "outputs": [
    {
     "name": "stdout",
     "output_type": "stream",
     "text": [
      "Accuracy:  0.6923076923076923\n"
     ]
    }
   ],
   "source": [
    "# we see that the logistic regression model has only 0.423 model accuracy... let's try another model\n",
    "# Import necessary libraries\n",
    "from sklearn.tree import DecisionTreeClassifier\n",
    "from sklearn.model_selection import train_test_split\n",
    "\n",
    "\n",
    "# Split the data into training and testing sets\n",
    "X_train, X_test, Y_train, Y_test = train_test_split(x, y, test_size=0.2)\n",
    "\n",
    "# Train a decision tree model on the training data\n",
    "model = DecisionTreeClassifier()\n",
    "model.fit(X_train, Y_train)\n",
    "\n",
    "# Make predictions on the test data\n",
    "predictions = model.predict(X_test)\n",
    "\n",
    "# Evaluate the model's performance\n",
    "print(\"Accuracy: \", model.score(X_test, Y_test))\n"
   ]
  },
  {
   "cell_type": "code",
   "execution_count": 109,
   "id": "1d0757cf",
   "metadata": {},
   "outputs": [
    {
     "name": "stdout",
     "output_type": "stream",
     "text": [
      "Accuracy:  0.5\n"
     ]
    }
   ],
   "source": [
    "# we see that the decision tree model is slightly better (accuracy 0.576) but not good enough... try a support vector model?\n",
    "# Import necessary libraries\n",
    "from sklearn.tree import DecisionTreeClassifier\n",
    "from sklearn.model_selection import train_test_split\n",
    "\n",
    "# Split the data into training and testing sets\n",
    "X_train, X_test, Y_train, Y_test = train_test_split(x, y, test_size=0.2)\n",
    "\n",
    "# Train a decision tree model on the training data\n",
    "model = DecisionTreeClassifier()\n",
    "model.fit(X_train, Y_train)\n",
    "\n",
    "# Make predictions on the test data\n",
    "predictions = model.predict(X_test)\n",
    "\n",
    "# Evaluate the model's performance\n",
    "print(\"Accuracy: \", model.score(X_test, Y_test))"
   ]
  },
  {
   "cell_type": "code",
   "execution_count": 113,
   "id": "c25f33a0",
   "metadata": {},
   "outputs": [],
   "source": [
    "# the support vector model (accuracy = 0.538) is even worse than the decision tree.. what to do??\n",
    "# try recursive feature slection \n",
    "# Define the target variable and the features\n",
    "target = data[\"Y\"]\n",
    "features = data.drop(\"Y\", axis = 1)"
   ]
  },
  {
   "cell_type": "code",
   "execution_count": 115,
   "id": "c4d0e485",
   "metadata": {},
   "outputs": [
    {
     "data": {
      "text/plain": [
       "DecisionTreeClassifier()"
      ]
     },
     "execution_count": 115,
     "metadata": {},
     "output_type": "execute_result"
    }
   ],
   "source": [
    "# Train a decision tree model using all of the features\n",
    "model = DecisionTreeClassifier()\n",
    "model.fit(features, target)\n"
   ]
  },
  {
   "cell_type": "code",
   "execution_count": 117,
   "id": "98e50c28",
   "metadata": {},
   "outputs": [
    {
     "name": "stdout",
     "output_type": "stream",
     "text": [
      "[ True  True  True  True  True  True]\n"
     ]
    }
   ],
   "source": [
    "from sklearn.feature_selection import RFE\n",
    "# Perform recursive feature elimination\n",
    "rfe = RFE(model, n_features_to_select = len(features.columns))\n",
    "rfe = rfe.fit(features, target)\n",
    "\n",
    "# Print the final set of features\n",
    "print(rfe.support_)"
   ]
  },
  {
   "cell_type": "code",
   "execution_count": 118,
   "id": "93782b8a",
   "metadata": {},
   "outputs": [
    {
     "name": "stdout",
     "output_type": "stream",
     "text": [
      "0.9444444444444444\n"
     ]
    }
   ],
   "source": [
    "# Check the accuracy of the model\n",
    "accuracy = rfe.score(features, target)\n",
    "\n",
    "# Print the accuracy\n",
    "print(accuracy)"
   ]
  },
  {
   "cell_type": "code",
   "execution_count": 121,
   "id": "6dbd4f1f",
   "metadata": {},
   "outputs": [
    {
     "name": "stdout",
     "output_type": "stream",
     "text": [
      "[0, 1, 2, 3, 4, 5]\n"
     ]
    }
   ],
   "source": [
    "# YAAAAY cool!!!! Seems like recursive feature elimination works well; this recursive algorithm trains the model \n",
    "#with all features, then removes the least important feature and trains the model again. \n",
    "#but which were the best features?\n",
    "# Print the ranking of the features\n",
    "ranking = sorted(range(len(rfe.support_)), key=lambda x: rfe.support_[x])\n",
    "print(ranking)"
   ]
  },
  {
   "cell_type": "code",
   "execution_count": null,
   "id": "cd33f783",
   "metadata": {},
   "outputs": [],
   "source": [
    "# emmmm... all the features were important?! none of the variables had been removed \n",
    "#in order to make the model more accurate. #confused"
   ]
  }
 ],
 "metadata": {
  "kernelspec": {
   "display_name": "Python 3 (ipykernel)",
   "language": "python",
   "name": "python3"
  },
  "language_info": {
   "codemirror_mode": {
    "name": "ipython",
    "version": 3
   },
   "file_extension": ".py",
   "mimetype": "text/x-python",
   "name": "python",
   "nbconvert_exporter": "python",
   "pygments_lexer": "ipython3",
   "version": "3.9.13"
  }
 },
 "nbformat": 4,
 "nbformat_minor": 5
}
